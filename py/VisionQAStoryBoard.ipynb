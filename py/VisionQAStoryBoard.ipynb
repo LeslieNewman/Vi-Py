{
 "cells": [
  {
   "cell_type": "markdown",
   "metadata": {},
   "source": [
    "## Vision-Python Demonstration Workbook: QA\n",
    "\n",
    "*Objective*: To illustrate access to two vision services to enable QA work for comparing between two environments\n"
   ]
  },
  {
   "cell_type": "code",
   "execution_count": 1,
   "metadata": {},
   "outputs": [],
   "source": [
    "import pandas as pd\n",
    "import vconnect\n",
    "\n",
    "#---  Create two connections - one to onprem and one to aws-in\n",
    "vc_onprem = vconnect.VCconnection()\n",
    "vc_onprem.setUrl('http://visdeva06.factset.com:10010/vision/api')\n",
    "vc_awsin = vconnect.VCconnection()\n",
    "vc_awsin.setUrl('http://visdevdb01.cts.fast-clientenv-aws.dev.us-east-1.aws.fdscloud.io:10010/vision/api')\n",
    "\n"
   ]
  },
  {
   "cell_type": "code",
   "execution_count": 2,
   "metadata": {},
   "outputs": [
    {
     "name": "stdout",
     "output_type": "stream",
     "text": [
      "VCconnection for http://visdeva06.factset.com:10010/vision/api at 0x1e472f03438\n",
      "host for Server onprem: visdeva06\n",
      "\n",
      "VCconnection for http://visdevdb01.cts.fast-clientenv-aws.dev.us-east-1.aws.fdscloud.io:10010/vision/api at 0x1e472f035c0\n",
      "host for Server awsin: visdevdb01\n",
      "\n"
     ]
    }
   ],
   "source": [
    "#--  Let's confirm our connections\n",
    "\n",
    "print(vc_onprem)\n",
    "print('host for Server onprem:', vc_onprem.runvision('Utility hostname'))\n",
    "\n",
    "\n",
    "print(vc_awsin)\n",
    "print('host for Server awsin:', vc_awsin.runvision('Utility hostname'))\n"
   ]
  },
  {
   "cell_type": "code",
   "execution_count": 3,
   "metadata": {},
   "outputs": [],
   "source": [
    "#--- Create some sample code to run\n",
    "\n",
    "vcode = '''\n",
    "\n",
    "JS getArrayFrom: [ Account findId: \"SP50\" . holdings ]\n",
    "    for: \"security code, security name, totalMarketValue, baseCurrency code\"\n",
    "    over: ^date \n",
    "\n",
    "'''\n",
    "\n",
    "report_op = vc_onprem.runvisionJSON(vcode)\n",
    "report_aws = vc_awsin.runvisionJSON(vcode)"
   ]
  },
  {
   "cell_type": "code",
   "execution_count": 4,
   "metadata": {},
   "outputs": [
    {
     "name": "stdout",
     "output_type": "stream",
     "text": [
      "On Prem\n"
     ]
    },
    {
     "data": {
      "text/html": [
       "<div>\n",
       "<style scoped>\n",
       "    .dataframe tbody tr th:only-of-type {\n",
       "        vertical-align: middle;\n",
       "    }\n",
       "\n",
       "    .dataframe tbody tr th {\n",
       "        vertical-align: top;\n",
       "    }\n",
       "\n",
       "    .dataframe thead th {\n",
       "        text-align: right;\n",
       "    }\n",
       "</style>\n",
       "<table border=\"1\" class=\"dataframe\">\n",
       "  <thead>\n",
       "    <tr style=\"text-align: right;\">\n",
       "      <th></th>\n",
       "      <th>baseCurrency code</th>\n",
       "      <th>date</th>\n",
       "      <th>id</th>\n",
       "      <th>security code</th>\n",
       "      <th>security name</th>\n",
       "      <th>totalMarketValue</th>\n",
       "    </tr>\n",
       "  </thead>\n",
       "  <tbody>\n",
       "    <tr>\n",
       "      <th>0</th>\n",
       "      <td>USD</td>\n",
       "      <td>20210203</td>\n",
       "      <td>00105510-00000117-2/2/2021</td>\n",
       "      <td>00105510</td>\n",
       "      <td>AFLAC Inc</td>\n",
       "      <td>3.025311e+10</td>\n",
       "    </tr>\n",
       "    <tr>\n",
       "      <th>1</th>\n",
       "      <td>USD</td>\n",
       "      <td>20210203</td>\n",
       "      <td>00130H10-00000117-2/2/2021</td>\n",
       "      <td>00130H10</td>\n",
       "      <td>AES Corp</td>\n",
       "      <td>1.712712e+10</td>\n",
       "    </tr>\n",
       "    <tr>\n",
       "      <th>2</th>\n",
       "      <td>USD</td>\n",
       "      <td>20210203</td>\n",
       "      <td>74340W10-00000117-2/2/2021</td>\n",
       "      <td>74340W10</td>\n",
       "      <td>ProLogis Inc</td>\n",
       "      <td>7.900815e+10</td>\n",
       "    </tr>\n",
       "    <tr>\n",
       "      <th>3</th>\n",
       "      <td>USD</td>\n",
       "      <td>20210203</td>\n",
       "      <td>00206R10-00000117-2/2/2021</td>\n",
       "      <td>00206R10</td>\n",
       "      <td>AT&amp;T Inc</td>\n",
       "      <td>2.033760e+11</td>\n",
       "    </tr>\n",
       "    <tr>\n",
       "      <th>4</th>\n",
       "      <td>USD</td>\n",
       "      <td>20210203</td>\n",
       "      <td>00282410-00000117-2/2/2021</td>\n",
       "      <td>00282410</td>\n",
       "      <td>Abbott Laboratories</td>\n",
       "      <td>2.131088e+11</td>\n",
       "    </tr>\n",
       "  </tbody>\n",
       "</table>\n",
       "</div>"
      ],
      "text/plain": [
       "  baseCurrency code      date                          id security code  \\\n",
       "0               USD  20210203  00105510-00000117-2/2/2021      00105510   \n",
       "1               USD  20210203  00130H10-00000117-2/2/2021      00130H10   \n",
       "2               USD  20210203  74340W10-00000117-2/2/2021      74340W10   \n",
       "3               USD  20210203  00206R10-00000117-2/2/2021      00206R10   \n",
       "4               USD  20210203  00282410-00000117-2/2/2021      00282410   \n",
       "\n",
       "         security name  totalMarketValue  \n",
       "0            AFLAC Inc      3.025311e+10  \n",
       "1             AES Corp      1.712712e+10  \n",
       "2         ProLogis Inc      7.900815e+10  \n",
       "3             AT&T Inc      2.033760e+11  \n",
       "4  Abbott Laboratories      2.131088e+11  "
      ]
     },
     "execution_count": 4,
     "metadata": {},
     "output_type": "execute_result"
    }
   ],
   "source": [
    "#--- Display results in pandas DataFrame - op\n",
    "\n",
    "print(\"On Prem\")\n",
    "pd.DataFrame(report_op['array']).head()"
   ]
  },
  {
   "cell_type": "code",
   "execution_count": 5,
   "metadata": {},
   "outputs": [
    {
     "name": "stdout",
     "output_type": "stream",
     "text": [
      "AWS\n"
     ]
    },
    {
     "data": {
      "text/html": [
       "<div>\n",
       "<style scoped>\n",
       "    .dataframe tbody tr th:only-of-type {\n",
       "        vertical-align: middle;\n",
       "    }\n",
       "\n",
       "    .dataframe tbody tr th {\n",
       "        vertical-align: top;\n",
       "    }\n",
       "\n",
       "    .dataframe thead th {\n",
       "        text-align: right;\n",
       "    }\n",
       "</style>\n",
       "<table border=\"1\" class=\"dataframe\">\n",
       "  <thead>\n",
       "    <tr style=\"text-align: right;\">\n",
       "      <th></th>\n",
       "      <th>baseCurrency code</th>\n",
       "      <th>date</th>\n",
       "      <th>id</th>\n",
       "      <th>security code</th>\n",
       "      <th>security name</th>\n",
       "      <th>totalMarketValue</th>\n",
       "    </tr>\n",
       "  </thead>\n",
       "  <tbody>\n",
       "    <tr>\n",
       "      <th>0</th>\n",
       "      <td>USD</td>\n",
       "      <td>20210203</td>\n",
       "      <td>00105510-00000117-2/2/2021</td>\n",
       "      <td>00105510</td>\n",
       "      <td>AFLAC Inc</td>\n",
       "      <td>3.025311e+10</td>\n",
       "    </tr>\n",
       "    <tr>\n",
       "      <th>1</th>\n",
       "      <td>USD</td>\n",
       "      <td>20210203</td>\n",
       "      <td>00130H10-00000117-2/2/2021</td>\n",
       "      <td>00130H10</td>\n",
       "      <td>AES Corp</td>\n",
       "      <td>1.712712e+10</td>\n",
       "    </tr>\n",
       "    <tr>\n",
       "      <th>2</th>\n",
       "      <td>USD</td>\n",
       "      <td>20210203</td>\n",
       "      <td>74340W10-00000117-2/2/2021</td>\n",
       "      <td>74340W10</td>\n",
       "      <td>ProLogis Inc</td>\n",
       "      <td>7.900815e+10</td>\n",
       "    </tr>\n",
       "    <tr>\n",
       "      <th>3</th>\n",
       "      <td>USD</td>\n",
       "      <td>20210203</td>\n",
       "      <td>00206R10-00000117-2/2/2021</td>\n",
       "      <td>00206R10</td>\n",
       "      <td>AT&amp;T Inc</td>\n",
       "      <td>2.033760e+11</td>\n",
       "    </tr>\n",
       "    <tr>\n",
       "      <th>4</th>\n",
       "      <td>USD</td>\n",
       "      <td>20210203</td>\n",
       "      <td>00282410-00000117-2/2/2021</td>\n",
       "      <td>00282410</td>\n",
       "      <td>Abbott Laboratories</td>\n",
       "      <td>2.131088e+11</td>\n",
       "    </tr>\n",
       "  </tbody>\n",
       "</table>\n",
       "</div>"
      ],
      "text/plain": [
       "  baseCurrency code      date                          id security code  \\\n",
       "0               USD  20210203  00105510-00000117-2/2/2021      00105510   \n",
       "1               USD  20210203  00130H10-00000117-2/2/2021      00130H10   \n",
       "2               USD  20210203  74340W10-00000117-2/2/2021      74340W10   \n",
       "3               USD  20210203  00206R10-00000117-2/2/2021      00206R10   \n",
       "4               USD  20210203  00282410-00000117-2/2/2021      00282410   \n",
       "\n",
       "         security name  totalMarketValue  \n",
       "0            AFLAC Inc      3.025311e+10  \n",
       "1             AES Corp      1.712712e+10  \n",
       "2         ProLogis Inc      7.900815e+10  \n",
       "3             AT&T Inc      2.033760e+11  \n",
       "4  Abbott Laboratories      2.131088e+11  "
      ]
     },
     "execution_count": 5,
     "metadata": {},
     "output_type": "execute_result"
    }
   ],
   "source": [
    "#--- Display results in pandas DataFrame - aws\n",
    "\n",
    "print(\"AWS\")\n",
    "pd.DataFrame(report_aws['array']).head()"
   ]
  }
 ],
 "metadata": {
  "kernelspec": {
   "display_name": "Python 3",
   "language": "python",
   "name": "python3"
  },
  "language_info": {
   "codemirror_mode": {
    "name": "ipython",
    "version": 3
   },
   "file_extension": ".py",
   "mimetype": "text/x-python",
   "name": "python",
   "nbconvert_exporter": "python",
   "pygments_lexer": "ipython3",
   "version": "3.7.3"
  }
 },
 "nbformat": 4,
 "nbformat_minor": 2
}

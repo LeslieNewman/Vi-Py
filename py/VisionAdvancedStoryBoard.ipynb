{
 "cells": [
  {
   "cell_type": "markdown",
   "metadata": {},
   "source": [
    "## Vision-Python Demonstration Workbook: Vision Language Advanced\n",
    "\n",
    "*Objective*: To illustrate access to a vision service that delivers standard python-ready json structures with the longer-term goal of demonstrating access to client FAST environments.\n",
    "\n",
    "\n",
    "### Audience\n",
    "\n",
    "This notebook contains some advanced Vision coding examples that focus on creating, manipulating, and returning JSON structures from Vision. The audience for these examples is expected to have basic familiarity with the Vision language and with python.  [Introductory Example](https://github.com/LeslieNewman/Vi-Py/blob/main/py/VisionExpressionsStoryBoard.ipynb) are available as well.\n",
    "\n",
    "#### Notes\n",
    "\n",
    "* This notebook provides a number of examples that fetch data from a Vision federated database utilizing an open-source node-js package talking to vision.  This is a work-in-progress designed to demonstrate concepts.  Only FactSet internals will have access to this database.  All of the components demonstrated here are designed to work with client Vision environments as well.\n",
    "\n",
    "* You will need to set an environment variable to tell python where the Vision Server is listening.  Use the python _os.environm_ function to set the server name."
   ]
  },
  {
   "cell_type": "markdown",
   "metadata": {},
   "source": [
    "\n",
    "### Getting Started\n",
    "\n",
    "To begin, you will need to import the Vision Connection (vconnect) module.  __[Get the <i>vconnect</i> module here](https://github.com/LeslieNewman/Vi-Py/blob/main/py/vconnect.py)__ .  Store this file locally in your normal work area.  The examples will be using several functions from this module:\n",
    "\n",
    "* *vc.runvget* is used to submit a Vision expression as a *get* url.\n",
    "* *vc.runvision* is used to run a Vision query and return the results as text\n",
    "* *vc.runvisionJSON* is used to run a Vision query and return the results as a JSON dictionary.  \n",
    "\n",
    "The examples below also use the *DataFrame* class from the *pandas* module, so you probably want to import that as well.\n",
    "\n",
    "You will need to use the os.environ function to identify the location of your Vision Server.\n"
   ]
  },
  {
   "cell_type": "code",
   "execution_count": 1,
   "metadata": {},
   "outputs": [],
   "source": [
    "import pandas as pd\n",
    "import vconnect\n",
    "\n",
    "vc = vconnect.VCconnection()\n",
    "vc.setUrl('http://visdevdb01.cts.fast-clientenv-aws.dev.us-east-1.aws.fdscloud.io:10010/vision/api')"
   ]
  },
  {
   "cell_type": "markdown",
   "metadata": {},
   "source": [
    "### Waking up the Vision Service\n",
    "\n",
    "This demo is leveraging a non-production service running on a dev box.  At any time, the service may be in one of the following states:\n",
    "\n",
    "1. Available\n",
    "1. Needing Restart\n",
    "1. Dead\n",
    "\n",
    "The following code can be run to determine which state the service is in:\n",
    "\n",
    ">`\n",
    "  vc.runvision ('2 + 2')\n",
    ">`\n",
    "\n",
    "If the service is **available**, you will see an appropriate response.  If the service is **needing restart**, you will get an error message that includes the text *RemoteDisconnected* after a minute or so.  If you see this message, you should run the code again which should restart the service for you.  This step may take a minute or two to finish.  If you get another error message, the service is most like **dead** and will need manual intervention on the unix account.\n"
   ]
  },
  {
   "cell_type": "code",
   "execution_count": 2,
   "metadata": {},
   "outputs": [
    {
     "name": "stdout",
     "output_type": "stream",
     "text": [
      "     4.00\n",
      "\n"
     ]
    }
   ],
   "source": [
    "#-- wake up the Vision service\n",
    "print (vc.runvision('2 + 2'))"
   ]
  },
  {
   "cell_type": "markdown",
   "metadata": {},
   "source": [
    "## Building Your Own JSON Structure in Vision\n",
    "\n",
    "The _getArrayFrom:for:over:_ message defined in the [Introductory Examples](https://github.com/LeslieNewman/Vi-Py/blob/main/py/VisionExpressionsStoryBoard.ipynb) notebook enables you to run a vision block designed to return a simple list of named values. There are a number of new methods defined at the Vision class **JS** that enable you to  define your own complex JSON structure and return the object to your client, in this case, your python program.  The values can be integers, doubles, strings, other objects, or arrays.  \n",
    "\n",
    "#### Messages defined at **JS** \n",
    "\n",
    "* *getConnection*          --  return a reference to an external connection object\n",
    "* *newObject*              --  create an object that is rendered as an external dictionary object\n",
    "* *newArrayFrom: list .*   --  converts a vision list to an external array object\n",
    "\n",
    "* *returnJSON: obj .*   --  return the supplied obj to the client\n",
    "\n",
    "#### Messages define at **JS newObject**\n",
    "\n",
    "* *set: key to val .*  --  sent to an external object to set supplied key to supplied val\n",
    "\n",
    "### Notes\n",
    "\n",
    "* When you run the vision code from the python environment, the external object referenced by _getConnection_ represents your python client.  When you run this same code from within an interactive _batchvision_ session, an external object will be created within that batchvision.\n",
    "\n",
    "\n"
   ]
  },
  {
   "cell_type": "code",
   "execution_count": 3,
   "metadata": {},
   "outputs": [
    {
     "name": "stdout",
     "output_type": "stream",
     "text": [
      "the response is of type  <class 'dict'>\n",
      "{'id': 'SP50', 'name': 'S&P 500', 'count': 505, 'date': 20210202}\n",
      "We can access pieces of the response:\n",
      "Id is:  SP50  and name is:  S&P 500\n"
     ]
    }
   ],
   "source": [
    "#-- Sample Query: Create an object that contains information about an account\n",
    "\n",
    "\n",
    "#--  Create the Vision Code to Run\n",
    "query = '''\n",
    "!connectObject <- JS getConnection ;\n",
    "!acct <- Account findId: \"SP50\" ;\n",
    "\n",
    "#-- Create a JS object with some key/value pairs\n",
    "!data <- connectObject newObject\n",
    "  set: \"id\" to: acct id .\n",
    "  set: \"name\" to: acct name .\n",
    "  set: \"count\" to: acct holdings count .\n",
    "  set: \"date\" to: acct holdingsDate asInteger ;\n",
    "\n",
    "#-- Return the object as JSON \n",
    "connectObject returnJSON: data\n",
    "\n",
    "'''\n",
    "\n",
    "#-- Call Vision to run the expression, returning a JS object\n",
    "response = vc.runvisionJSON(query)\n",
    "\n",
    "#--- Print the response and its type\n",
    "print (\"the response is of type \", type(response))\n",
    "print (response)\n",
    "\n",
    "#-- When we use the JSON call, the response is converted to a python dictionary\n",
    "#-- so we can access elements directly\n",
    "print (\"We can access pieces of the response:\")\n",
    "print (\"Id is: \" , response['id'], \" and name is: \", response['name'])"
   ]
  },
  {
   "cell_type": "code",
   "execution_count": 4,
   "metadata": {},
   "outputs": [
    {
     "name": "stdout",
     "output_type": "stream",
     "text": [
      "{'id': 'R.1000', 'name': 'Russell 1000', 'count': 1013, 'date': 20210202, 'holdings': [{'date': '2/3/2021', 'acctId': 'R.1000', 'secId': '03783310', 'weight': 5.999659246152214}, {'date': '2/3/2021', 'acctId': 'R.1000', 'secId': '59491810', 'weight': 4.939494591718715}, {'date': '2/3/2021', 'acctId': 'R.1000', 'secId': '02313510', 'weight': 3.947050349395297}, {'date': '2/3/2021', 'acctId': 'R.1000', 'secId': '88160R10', 'weight': 1.8175740363864614}, {'date': '2/3/2021', 'acctId': 'R.1000', 'secId': '30303M10', 'weight': 1.7662309209958527}]}\n"
     ]
    }
   ],
   "source": [
    "#-- Expanding our example to return a named array containing the holdings\n",
    "\n",
    "query = '''\n",
    "!connectObject <- JS getConnection ;\n",
    "\n",
    "!acct <- Account findId: \"r.1000\" ;\n",
    "\n",
    "#--  Create a JS object with some key/value pairs\n",
    "!data <- connectObject newObject \n",
    "   set: \"id\" to: acct id .\n",
    "   set: \"name\" to: acct name .\n",
    "   set: \"count\" to: acct holdings count .\n",
    "   set: \"date\" to: acct holdingsDate asInteger ;\n",
    "   \n",
    "#-- create an array of JS holding objects\n",
    "!holdObjects <-\n",
    "acct holdings sortDown: [ percentOfPort ] . first: 5 . \n",
    " send: [ ^my connectObject newObject \n",
    "         set: \"date\" to: ^date asString .\n",
    "         set: \"acctId\" to: account code .\n",
    "         set: \"secId\" to: security code .\n",
    "         set: \"weight\" to: percentOfPort .\n",
    "       ] ;\n",
    "       \n",
    "#-- add a key-value pair to data object that references this vision list as an array\n",
    "data set: \"holdings\" to: (connectObject newArrayFrom: holdObjects ) ;   \n",
    "   \n",
    "#-- Return the object as JSON   \n",
    " connectObject returnJSON: data\n",
    "\n",
    "'''\n",
    "\n",
    "#--  Call Vision to run the expression\n",
    "getHoldings = vc.runvisionJSON(query)\n",
    "\n",
    "print (getHoldings)"
   ]
  },
  {
   "cell_type": "code",
   "execution_count": 5,
   "metadata": {},
   "outputs": [
    {
     "name": "stdout",
     "output_type": "stream",
     "text": [
      "Holdings for: R.1000  Russell 1000\n"
     ]
    },
    {
     "data": {
      "text/html": [
       "<div>\n",
       "<style scoped>\n",
       "    .dataframe tbody tr th:only-of-type {\n",
       "        vertical-align: middle;\n",
       "    }\n",
       "\n",
       "    .dataframe tbody tr th {\n",
       "        vertical-align: top;\n",
       "    }\n",
       "\n",
       "    .dataframe thead th {\n",
       "        text-align: right;\n",
       "    }\n",
       "</style>\n",
       "<table border=\"1\" class=\"dataframe\">\n",
       "  <thead>\n",
       "    <tr style=\"text-align: right;\">\n",
       "      <th></th>\n",
       "      <th>acctId</th>\n",
       "      <th>date</th>\n",
       "      <th>secId</th>\n",
       "      <th>weight</th>\n",
       "    </tr>\n",
       "  </thead>\n",
       "  <tbody>\n",
       "    <tr>\n",
       "      <th>0</th>\n",
       "      <td>R.1000</td>\n",
       "      <td>2/3/2021</td>\n",
       "      <td>03783310</td>\n",
       "      <td>5.999659</td>\n",
       "    </tr>\n",
       "    <tr>\n",
       "      <th>1</th>\n",
       "      <td>R.1000</td>\n",
       "      <td>2/3/2021</td>\n",
       "      <td>59491810</td>\n",
       "      <td>4.939495</td>\n",
       "    </tr>\n",
       "    <tr>\n",
       "      <th>2</th>\n",
       "      <td>R.1000</td>\n",
       "      <td>2/3/2021</td>\n",
       "      <td>02313510</td>\n",
       "      <td>3.947050</td>\n",
       "    </tr>\n",
       "    <tr>\n",
       "      <th>3</th>\n",
       "      <td>R.1000</td>\n",
       "      <td>2/3/2021</td>\n",
       "      <td>88160R10</td>\n",
       "      <td>1.817574</td>\n",
       "    </tr>\n",
       "    <tr>\n",
       "      <th>4</th>\n",
       "      <td>R.1000</td>\n",
       "      <td>2/3/2021</td>\n",
       "      <td>30303M10</td>\n",
       "      <td>1.766231</td>\n",
       "    </tr>\n",
       "  </tbody>\n",
       "</table>\n",
       "</div>"
      ],
      "text/plain": [
       "   acctId      date     secId    weight\n",
       "0  R.1000  2/3/2021  03783310  5.999659\n",
       "1  R.1000  2/3/2021  59491810  4.939495\n",
       "2  R.1000  2/3/2021  02313510  3.947050\n",
       "3  R.1000  2/3/2021  88160R10  1.817574\n",
       "4  R.1000  2/3/2021  30303M10  1.766231"
      ]
     },
     "execution_count": 5,
     "metadata": {},
     "output_type": "execute_result"
    }
   ],
   "source": [
    "#-- By default, we are printing the entire js object.  DataFrames help here\n",
    "\n",
    "print(\"Holdings for: \" + getHoldings['id'] + \"  \" + getHoldings['name'])\n",
    "pd.DataFrame(getHoldings['holdings'])"
   ]
  },
  {
   "cell_type": "code",
   "execution_count": null,
   "metadata": {},
   "outputs": [],
   "source": []
  },
  {
   "cell_type": "markdown",
   "metadata": {},
   "source": [
    "## Packaged Applications with the Applay Class\n",
    "\n",
    "The **Applay** class has been created to support building structured applications in Vision that return JSON dictionary objects.   Applications are defined at the class **Applay Lib** as methods that can read inputs from a supplied JSON dictionary object.\n",
    "\n",
    "Within your method you can use the following messages:\n",
    "\n",
    "* *getNewObject*  -- returns a js dictionary object that responds to the *set: key to: val* message\n",
    "* *getNewArrayFrom: list*  -- returns an array from a list of js dictionary objects\n",
    "* *responseObject*  --  the js dictionary object that will be returned to your calling program\n",
    "* *updateStatusWithSuccess*  -- marks the status flag in the retuned js dictionary object\n",
    "* *postErrorWithMessage: errorString* -- returns the error message supplied\n",
    "\n",
    "This [Jupyter Notebook](https://github.com/LeslieNewman/Vi-Py/blob/main/py/VisionStoryBoard.ipynb) describes a number of prepackaged applications.\n"
   ]
  },
  {
   "cell_type": "code",
   "execution_count": 6,
   "metadata": {},
   "outputs": [
    {
     "name": "stdout",
     "output_type": "stream",
     "text": [
      "Status:  {'code': 0, 'message': 'Success'}\n",
      "Response: <class 'dict'>\n",
      "{'appName': 'Tester', 'status': {'code': 0, 'message': 'Success'}, 'response': {'id': 'SP50', 'name': 'S&P 500', 'constituents': [{'acctId': '00000117', 'date': ' 2-Feb-2021', 'secId': '03783310', 'name': 'Apple Inc.', 'weight': 6.681103904487748, 'mval': 2157368983751.7998}, {'acctId': '00000117', 'date': ' 2-Feb-2021', 'secId': '59491810', 'name': 'Microsoft Corp', 'weight': 5.607867374079184, 'mval': 1810814396960}, {'acctId': '00000117', 'date': ' 2-Feb-2021', 'secId': '02313510', 'name': 'Amazon.com Inc', 'weight': 4.4642413728480586, 'mval': 1441530623000}]}, 'snfs': []}\n"
     ]
    },
    {
     "data": {
      "text/html": [
       "<div>\n",
       "<style scoped>\n",
       "    .dataframe tbody tr th:only-of-type {\n",
       "        vertical-align: middle;\n",
       "    }\n",
       "\n",
       "    .dataframe tbody tr th {\n",
       "        vertical-align: top;\n",
       "    }\n",
       "\n",
       "    .dataframe thead th {\n",
       "        text-align: right;\n",
       "    }\n",
       "</style>\n",
       "<table border=\"1\" class=\"dataframe\">\n",
       "  <thead>\n",
       "    <tr style=\"text-align: right;\">\n",
       "      <th></th>\n",
       "      <th>acctId</th>\n",
       "      <th>date</th>\n",
       "      <th>mval</th>\n",
       "      <th>name</th>\n",
       "      <th>secId</th>\n",
       "      <th>weight</th>\n",
       "    </tr>\n",
       "  </thead>\n",
       "  <tbody>\n",
       "    <tr>\n",
       "      <th>0</th>\n",
       "      <td>00000117</td>\n",
       "      <td>2-Feb-2021</td>\n",
       "      <td>2.157369e+12</td>\n",
       "      <td>Apple Inc.</td>\n",
       "      <td>03783310</td>\n",
       "      <td>6.681104</td>\n",
       "    </tr>\n",
       "    <tr>\n",
       "      <th>1</th>\n",
       "      <td>00000117</td>\n",
       "      <td>2-Feb-2021</td>\n",
       "      <td>1.810814e+12</td>\n",
       "      <td>Microsoft Corp</td>\n",
       "      <td>59491810</td>\n",
       "      <td>5.607867</td>\n",
       "    </tr>\n",
       "    <tr>\n",
       "      <th>2</th>\n",
       "      <td>00000117</td>\n",
       "      <td>2-Feb-2021</td>\n",
       "      <td>1.441531e+12</td>\n",
       "      <td>Amazon.com Inc</td>\n",
       "      <td>02313510</td>\n",
       "      <td>4.464241</td>\n",
       "    </tr>\n",
       "  </tbody>\n",
       "</table>\n",
       "</div>"
      ],
      "text/plain": [
       "     acctId         date          mval            name     secId    weight\n",
       "0  00000117   2-Feb-2021  2.157369e+12      Apple Inc.  03783310  6.681104\n",
       "1  00000117   2-Feb-2021  1.810814e+12  Microsoft Corp  59491810  5.607867\n",
       "2  00000117   2-Feb-2021  1.441531e+12  Amazon.com Inc  02313510  4.464241"
      ]
     },
     "execution_count": 6,
     "metadata": {},
     "output_type": "execute_result"
    }
   ],
   "source": [
    "#---  Create an Application called Tester\n",
    "#---    params = acctId, date, num\n",
    "app = '''\n",
    "\n",
    "Applay Lib defineMethod: [ | Tester |\n",
    "\n",
    "!id <-   ^self getParam: \"acctId\" ;\n",
    "!date <- ^self getParam: \"date\" . asDate else: ^date ;\n",
    "!max <-  ^self getParam: \"num\" . asInteger  ;\n",
    "!entity <- GlobalWorkspace Account findId: id ;\n",
    "entity isntDefault\n",
    "ifTrue:\n",
    "  [ !holdings <- date evaluate: [ entity holdings ] ;\n",
    "    max isntNA\n",
    "      ifTrue: [ :holdings <- holdings sortDown: [ percentOfPort ] . first: max ] ;\n",
    "    ^self responseObject\n",
    "        set: \"id\" to: entity id .\n",
    "        set: \"name\" to: entity name .\n",
    "       ;\n",
    "     !constits <- holdings\n",
    "        send: [ ^my getNewObject\n",
    "                    set: \"acctId\" to: account code .\n",
    "                    set: \"date\" to: date formatUsingShortName .\n",
    "                    set: \"secId\"\n",
    "                     to: security descriptiveData factsetId .\n",
    "                    set: \"name\" to: security name .\n",
    "                    set: \"weight\" to: percentOfPort .\n",
    "                    set: \"mval\" to: totalMarketValue .\n",
    "                ] ;\n",
    "    ^self responseObject\n",
    "         set: \"constituents\" to: (^self getNewArrayFrom: constits);\n",
    "    ^self updateStatusWithSuccess ;\n",
    "    ]\n",
    "ifFalse:\n",
    "   [ ^self postErrorWithMessage: (\"Id \" concat: id . concat: \" not found.\")\n",
    "   ] ;\n",
    "\n",
    "^self\n",
    "] ;\n",
    "\n",
    "'''\n",
    "#-- Define the Method and confirm that it is there\n",
    "vc.runvision(app)\n",
    "\n",
    "#--  Run the Application\n",
    "params = {'acctId' : \"SP50\", 'num' : 3}\n",
    "response = vc.runapp (\"Tester\", params)\n",
    "print( \"Status: \", response['status'])\n",
    "print (\"Response:\", type(response))\n",
    "print (response)\n",
    "\n",
    "pd.DataFrame(response['response']['constituents'])\n",
    "\n",
    "#--- Run it with Bad inputs\n",
    "#print (vc.runapp(\"Tester\", {'acctId' : \"badId\"}))"
   ]
  },
  {
   "cell_type": "code",
   "execution_count": null,
   "metadata": {},
   "outputs": [],
   "source": []
  }
 ],
 "metadata": {
  "kernelspec": {
   "display_name": "Python 3",
   "language": "python",
   "name": "python3"
  },
  "language_info": {
   "codemirror_mode": {
    "name": "ipython",
    "version": 3
   },
   "file_extension": ".py",
   "mimetype": "text/x-python",
   "name": "python",
   "nbconvert_exporter": "python",
   "pygments_lexer": "ipython3",
   "version": "3.7.3"
  }
 },
 "nbformat": 4,
 "nbformat_minor": 2
}
